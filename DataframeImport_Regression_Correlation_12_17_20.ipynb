{
 "cells": [
  {
   "cell_type": "code",
   "execution_count": 1,
   "metadata": {},
   "outputs": [],
   "source": [
    "\n",
    "import statsmodels.api as sm\n"
   ]
  },
  {
   "cell_type": "code",
   "execution_count": 2,
   "metadata": {},
   "outputs": [],
   "source": [
    "\n",
    "from sklearn import linear_model "
   ]
  },
  {
   "cell_type": "code",
   "execution_count": 6,
   "metadata": {},
   "outputs": [],
   "source": [
    "\n",
    "import pandas as pd\n",
    "\n",
    "df = pd.read_excel(\"C:\\\\Users\\\\KOROPEYB\\\\Desktop\\\\crackers\\\\sandbox\\\\Book2.xlsx\", sheet_name = \"DataFrame\", headers = 7)"
   ]
  },
  {
   "cell_type": "code",
   "execution_count": 7,
   "metadata": {},
   "outputs": [
    {
     "data": {
      "text/html": [
       "<div>\n",
       "<style scoped>\n",
       "    .dataframe tbody tr th:only-of-type {\n",
       "        vertical-align: middle;\n",
       "    }\n",
       "\n",
       "    .dataframe tbody tr th {\n",
       "        vertical-align: top;\n",
       "    }\n",
       "\n",
       "    .dataframe thead th {\n",
       "        text-align: right;\n",
       "    }\n",
       "</style>\n",
       "<table border=\"1\" class=\"dataframe\">\n",
       "  <thead>\n",
       "    <tr style=\"text-align: right;\">\n",
       "      <th></th>\n",
       "      <th>Year</th>\n",
       "      <th>D1: 8-6 Summer</th>\n",
       "      <th>D1: 8-6 Winter</th>\n",
       "      <th>D2: 8-8 Summer</th>\n",
       "      <th>D2: 8-8 Winter</th>\n",
       "      <th>D3: All Day Summer</th>\n",
       "      <th>D3: All Day Winter</th>\n",
       "    </tr>\n",
       "  </thead>\n",
       "  <tbody>\n",
       "    <tr>\n",
       "      <th>0</th>\n",
       "      <td>2020</td>\n",
       "      <td>9.020000</td>\n",
       "      <td>0</td>\n",
       "      <td>21.520000</td>\n",
       "      <td>15.900000</td>\n",
       "      <td>19.820000</td>\n",
       "      <td>6.310000</td>\n",
       "    </tr>\n",
       "    <tr>\n",
       "      <th>1</th>\n",
       "      <td>2019</td>\n",
       "      <td>9.008303</td>\n",
       "      <td>0</td>\n",
       "      <td>21.469564</td>\n",
       "      <td>15.756032</td>\n",
       "      <td>19.675170</td>\n",
       "      <td>6.170470</td>\n",
       "    </tr>\n",
       "    <tr>\n",
       "      <th>2</th>\n",
       "      <td>2018</td>\n",
       "      <td>8.961903</td>\n",
       "      <td>0</td>\n",
       "      <td>21.316991</td>\n",
       "      <td>15.662951</td>\n",
       "      <td>19.636307</td>\n",
       "      <td>5.896628</td>\n",
       "    </tr>\n",
       "    <tr>\n",
       "      <th>3</th>\n",
       "      <td>2017</td>\n",
       "      <td>8.927120</td>\n",
       "      <td>0</td>\n",
       "      <td>21.288266</td>\n",
       "      <td>15.520385</td>\n",
       "      <td>19.581701</td>\n",
       "      <td>5.886658</td>\n",
       "    </tr>\n",
       "    <tr>\n",
       "      <th>4</th>\n",
       "      <td>2016</td>\n",
       "      <td>8.885625</td>\n",
       "      <td>0</td>\n",
       "      <td>21.057579</td>\n",
       "      <td>15.488380</td>\n",
       "      <td>19.534210</td>\n",
       "      <td>5.873939</td>\n",
       "    </tr>\n",
       "    <tr>\n",
       "      <th>5</th>\n",
       "      <td>2015</td>\n",
       "      <td>8.640425</td>\n",
       "      <td>0</td>\n",
       "      <td>20.725806</td>\n",
       "      <td>15.321850</td>\n",
       "      <td>19.367011</td>\n",
       "      <td>5.702384</td>\n",
       "    </tr>\n",
       "    <tr>\n",
       "      <th>6</th>\n",
       "      <td>2014</td>\n",
       "      <td>8.127395</td>\n",
       "      <td>0</td>\n",
       "      <td>20.643963</td>\n",
       "      <td>15.046988</td>\n",
       "      <td>19.302874</td>\n",
       "      <td>5.646217</td>\n",
       "    </tr>\n",
       "    <tr>\n",
       "      <th>7</th>\n",
       "      <td>2013</td>\n",
       "      <td>8.026372</td>\n",
       "      <td>0</td>\n",
       "      <td>20.629062</td>\n",
       "      <td>15.043650</td>\n",
       "      <td>19.248308</td>\n",
       "      <td>5.595419</td>\n",
       "    </tr>\n",
       "    <tr>\n",
       "      <th>8</th>\n",
       "      <td>2012</td>\n",
       "      <td>8.024212</td>\n",
       "      <td>0</td>\n",
       "      <td>20.628147</td>\n",
       "      <td>14.912306</td>\n",
       "      <td>18.981549</td>\n",
       "      <td>5.558252</td>\n",
       "    </tr>\n",
       "  </tbody>\n",
       "</table>\n",
       "</div>"
      ],
      "text/plain": [
       "   Year  D1: 8-6 Summer  D1: 8-6 Winter  D2: 8-8 Summer  D2: 8-8 Winter  \\\n",
       "0  2020        9.020000               0       21.520000       15.900000   \n",
       "1  2019        9.008303               0       21.469564       15.756032   \n",
       "2  2018        8.961903               0       21.316991       15.662951   \n",
       "3  2017        8.927120               0       21.288266       15.520385   \n",
       "4  2016        8.885625               0       21.057579       15.488380   \n",
       "5  2015        8.640425               0       20.725806       15.321850   \n",
       "6  2014        8.127395               0       20.643963       15.046988   \n",
       "7  2013        8.026372               0       20.629062       15.043650   \n",
       "8  2012        8.024212               0       20.628147       14.912306   \n",
       "\n",
       "   D3: All Day Summer  D3: All Day Winter  \n",
       "0           19.820000            6.310000  \n",
       "1           19.675170            6.170470  \n",
       "2           19.636307            5.896628  \n",
       "3           19.581701            5.886658  \n",
       "4           19.534210            5.873939  \n",
       "5           19.367011            5.702384  \n",
       "6           19.302874            5.646217  \n",
       "7           19.248308            5.595419  \n",
       "8           18.981549            5.558252  "
      ]
     },
     "execution_count": 7,
     "metadata": {},
     "output_type": "execute_result"
    }
   ],
   "source": [
    "df"
   ]
  },
  {
   "cell_type": "code",
   "execution_count": 8,
   "metadata": {},
   "outputs": [],
   "source": [
    "\n",
    "YD1S = df[\"D1: 8-6 Summer\"]\n"
   ]
  },
  {
   "cell_type": "code",
   "execution_count": 9,
   "metadata": {},
   "outputs": [
    {
     "data": {
      "text/plain": [
       "0    9.020000\n",
       "1    9.008303\n",
       "2    8.961903\n",
       "3    8.927120\n",
       "4    8.885625\n",
       "5    8.640425\n",
       "6    8.127395\n",
       "7    8.026372\n",
       "8    8.024212\n",
       "Name: D1: 8-6 Summer, dtype: float64"
      ]
     },
     "execution_count": 9,
     "metadata": {},
     "output_type": "execute_result"
    }
   ],
   "source": [
    "YD1S"
   ]
  },
  {
   "cell_type": "code",
   "execution_count": 10,
   "metadata": {},
   "outputs": [
    {
     "data": {
      "text/plain": [
       "0    21.520000\n",
       "1    21.469564\n",
       "2    21.316991\n",
       "3    21.288266\n",
       "4    21.057579\n",
       "5    20.725806\n",
       "6    20.643963\n",
       "7    20.629062\n",
       "8    20.628147\n",
       "Name: D2: 8-8 Summer, dtype: float64"
      ]
     },
     "execution_count": 10,
     "metadata": {},
     "output_type": "execute_result"
    }
   ],
   "source": [
    "\n",
    "YD2S = df[\"D2: 8-8 Summer\"]\n",
    "YD2S"
   ]
  },
  {
   "cell_type": "code",
   "execution_count": 11,
   "metadata": {},
   "outputs": [
    {
     "data": {
      "text/plain": [
       "0    6.310000\n",
       "1    6.170470\n",
       "2    5.896628\n",
       "3    5.886658\n",
       "4    5.873939\n",
       "5    5.702384\n",
       "6    5.646217\n",
       "7    5.595419\n",
       "8    5.558252\n",
       "Name: D3: All Day Winter, dtype: float64"
      ]
     },
     "execution_count": 11,
     "metadata": {},
     "output_type": "execute_result"
    }
   ],
   "source": [
    "\n",
    "YD1W = df[\"D1: 8-6 Winter\"]\n",
    "YD2W = df[\"D2: 8-8 Winter\"]\n",
    "YD3W = df[\"D3: All Day Winter\"]\n",
    "YD1W\n",
    "YD2W\n",
    "YD3W"
   ]
  },
  {
   "cell_type": "code",
   "execution_count": 12,
   "metadata": {},
   "outputs": [
    {
     "data": {
      "text/plain": [
       "0    0\n",
       "1    0\n",
       "2    0\n",
       "3    0\n",
       "4    0\n",
       "5    0\n",
       "6    0\n",
       "7    0\n",
       "8    0\n",
       "Name: D1: 8-6 Winter, dtype: int64"
      ]
     },
     "execution_count": 12,
     "metadata": {},
     "output_type": "execute_result"
    }
   ],
   "source": [
    "YD1W"
   ]
  },
  {
   "cell_type": "code",
   "execution_count": 13,
   "metadata": {},
   "outputs": [
    {
     "data": {
      "text/plain": [
       "0    15.900000\n",
       "1    15.756032\n",
       "2    15.662951\n",
       "3    15.520385\n",
       "4    15.488380\n",
       "5    15.321850\n",
       "6    15.046988\n",
       "7    15.043650\n",
       "8    14.912306\n",
       "Name: D2: 8-8 Winter, dtype: float64"
      ]
     },
     "execution_count": 13,
     "metadata": {},
     "output_type": "execute_result"
    }
   ],
   "source": [
    "YD2W\n"
   ]
  },
  {
   "cell_type": "code",
   "execution_count": 14,
   "metadata": {},
   "outputs": [
    {
     "data": {
      "text/plain": [
       "0    6.310000\n",
       "1    6.170470\n",
       "2    5.896628\n",
       "3    5.886658\n",
       "4    5.873939\n",
       "5    5.702384\n",
       "6    5.646217\n",
       "7    5.595419\n",
       "8    5.558252\n",
       "Name: D3: All Day Winter, dtype: float64"
      ]
     },
     "execution_count": 14,
     "metadata": {},
     "output_type": "execute_result"
    }
   ],
   "source": [
    "YD3W"
   ]
  },
  {
   "cell_type": "code",
   "execution_count": 18,
   "metadata": {},
   "outputs": [],
   "source": [
    "\n",
    "x = df[[\"D2: 8-8 Summer\", \"D3: All Day Summer\",\"D1: 8-6 Winter\", \"D2: 8-8 Winter\", \"D3: All Day Winter\"]]\n",
    "                    \n",
    "                    \n",
    "                    \n",
    "                    \n",
    "                    "
   ]
  },
  {
   "cell_type": "code",
   "execution_count": 19,
   "metadata": {},
   "outputs": [
    {
     "data": {
      "text/html": [
       "<div>\n",
       "<style scoped>\n",
       "    .dataframe tbody tr th:only-of-type {\n",
       "        vertical-align: middle;\n",
       "    }\n",
       "\n",
       "    .dataframe tbody tr th {\n",
       "        vertical-align: top;\n",
       "    }\n",
       "\n",
       "    .dataframe thead th {\n",
       "        text-align: right;\n",
       "    }\n",
       "</style>\n",
       "<table border=\"1\" class=\"dataframe\">\n",
       "  <thead>\n",
       "    <tr style=\"text-align: right;\">\n",
       "      <th></th>\n",
       "      <th>D2: 8-8 Summer</th>\n",
       "      <th>D3: All Day Summer</th>\n",
       "      <th>D1: 8-6 Winter</th>\n",
       "      <th>D2: 8-8 Winter</th>\n",
       "      <th>D3: All Day Winter</th>\n",
       "    </tr>\n",
       "  </thead>\n",
       "  <tbody>\n",
       "    <tr>\n",
       "      <th>0</th>\n",
       "      <td>21.520000</td>\n",
       "      <td>19.820000</td>\n",
       "      <td>0</td>\n",
       "      <td>15.900000</td>\n",
       "      <td>6.310000</td>\n",
       "    </tr>\n",
       "    <tr>\n",
       "      <th>1</th>\n",
       "      <td>21.469564</td>\n",
       "      <td>19.675170</td>\n",
       "      <td>0</td>\n",
       "      <td>15.756032</td>\n",
       "      <td>6.170470</td>\n",
       "    </tr>\n",
       "    <tr>\n",
       "      <th>2</th>\n",
       "      <td>21.316991</td>\n",
       "      <td>19.636307</td>\n",
       "      <td>0</td>\n",
       "      <td>15.662951</td>\n",
       "      <td>5.896628</td>\n",
       "    </tr>\n",
       "    <tr>\n",
       "      <th>3</th>\n",
       "      <td>21.288266</td>\n",
       "      <td>19.581701</td>\n",
       "      <td>0</td>\n",
       "      <td>15.520385</td>\n",
       "      <td>5.886658</td>\n",
       "    </tr>\n",
       "    <tr>\n",
       "      <th>4</th>\n",
       "      <td>21.057579</td>\n",
       "      <td>19.534210</td>\n",
       "      <td>0</td>\n",
       "      <td>15.488380</td>\n",
       "      <td>5.873939</td>\n",
       "    </tr>\n",
       "    <tr>\n",
       "      <th>5</th>\n",
       "      <td>20.725806</td>\n",
       "      <td>19.367011</td>\n",
       "      <td>0</td>\n",
       "      <td>15.321850</td>\n",
       "      <td>5.702384</td>\n",
       "    </tr>\n",
       "    <tr>\n",
       "      <th>6</th>\n",
       "      <td>20.643963</td>\n",
       "      <td>19.302874</td>\n",
       "      <td>0</td>\n",
       "      <td>15.046988</td>\n",
       "      <td>5.646217</td>\n",
       "    </tr>\n",
       "    <tr>\n",
       "      <th>7</th>\n",
       "      <td>20.629062</td>\n",
       "      <td>19.248308</td>\n",
       "      <td>0</td>\n",
       "      <td>15.043650</td>\n",
       "      <td>5.595419</td>\n",
       "    </tr>\n",
       "    <tr>\n",
       "      <th>8</th>\n",
       "      <td>20.628147</td>\n",
       "      <td>18.981549</td>\n",
       "      <td>0</td>\n",
       "      <td>14.912306</td>\n",
       "      <td>5.558252</td>\n",
       "    </tr>\n",
       "  </tbody>\n",
       "</table>\n",
       "</div>"
      ],
      "text/plain": [
       "   D2: 8-8 Summer  D3: All Day Summer  D1: 8-6 Winter  D2: 8-8 Winter  \\\n",
       "0       21.520000           19.820000               0       15.900000   \n",
       "1       21.469564           19.675170               0       15.756032   \n",
       "2       21.316991           19.636307               0       15.662951   \n",
       "3       21.288266           19.581701               0       15.520385   \n",
       "4       21.057579           19.534210               0       15.488380   \n",
       "5       20.725806           19.367011               0       15.321850   \n",
       "6       20.643963           19.302874               0       15.046988   \n",
       "7       20.629062           19.248308               0       15.043650   \n",
       "8       20.628147           18.981549               0       14.912306   \n",
       "\n",
       "   D3: All Day Winter  \n",
       "0            6.310000  \n",
       "1            6.170470  \n",
       "2            5.896628  \n",
       "3            5.886658  \n",
       "4            5.873939  \n",
       "5            5.702384  \n",
       "6            5.646217  \n",
       "7            5.595419  \n",
       "8            5.558252  "
      ]
     },
     "execution_count": 19,
     "metadata": {},
     "output_type": "execute_result"
    }
   ],
   "source": [
    "x"
   ]
  },
  {
   "cell_type": "code",
   "execution_count": 20,
   "metadata": {},
   "outputs": [],
   "source": [
    "model = sm.OLS(YD1S, x).fit()"
   ]
  },
  {
   "cell_type": "code",
   "execution_count": 21,
   "metadata": {},
   "outputs": [
    {
     "name": "stderr",
     "output_type": "stream",
     "text": [
      "C:\\Users\\KOROPEYB\\Anaconda3\\lib\\site-packages\\scipy\\stats\\stats.py:1603: UserWarning: kurtosistest only valid for n>=20 ... continuing anyway, n=9\n",
      "  warnings.warn(\"kurtosistest only valid for n>=20 ... continuing \"\n"
     ]
    },
    {
     "data": {
      "text/html": [
       "<table class=\"simpletable\">\n",
       "<caption>OLS Regression Results</caption>\n",
       "<tr>\n",
       "  <th>Dep. Variable:</th>     <td>D1: 8-6 Summer</td>  <th>  R-squared (uncentered):</th>      <td>   1.000</td>\n",
       "</tr>\n",
       "<tr>\n",
       "  <th>Model:</th>                   <td>OLS</td>       <th>  Adj. R-squared (uncentered):</th> <td>   1.000</td>\n",
       "</tr>\n",
       "<tr>\n",
       "  <th>Method:</th>             <td>Least Squares</td>  <th>  F-statistic:       </th>          <td>   6569.</td>\n",
       "</tr>\n",
       "<tr>\n",
       "  <th>Date:</th>             <td>Thu, 17 Dec 2020</td> <th>  Prob (F-statistic):</th>          <td>1.75e-09</td>\n",
       "</tr>\n",
       "<tr>\n",
       "  <th>Time:</th>                 <td>19:24:49</td>     <th>  Log-Likelihood:    </th>          <td>  6.3798</td>\n",
       "</tr>\n",
       "<tr>\n",
       "  <th>No. Observations:</th>      <td>     9</td>      <th>  AIC:               </th>          <td>  -4.760</td>\n",
       "</tr>\n",
       "<tr>\n",
       "  <th>Df Residuals:</th>          <td>     5</td>      <th>  BIC:               </th>          <td>  -3.971</td>\n",
       "</tr>\n",
       "<tr>\n",
       "  <th>Df Model:</th>              <td>     4</td>      <th>                     </th>              <td> </td>   \n",
       "</tr>\n",
       "<tr>\n",
       "  <th>Covariance Type:</th>      <td>nonrobust</td>    <th>                     </th>              <td> </td>   \n",
       "</tr>\n",
       "</table>\n",
       "<table class=\"simpletable\">\n",
       "<tr>\n",
       "           <td></td>             <th>coef</th>     <th>std err</th>      <th>t</th>      <th>P>|t|</th>  <th>[0.025</th>    <th>0.975]</th>  \n",
       "</tr>\n",
       "<tr>\n",
       "  <th>D2: 8-8 Summer</th>     <td>   -0.2270</td> <td>    0.490</td> <td>   -0.463</td> <td> 0.663</td> <td>   -1.487</td> <td>    1.033</td>\n",
       "</tr>\n",
       "<tr>\n",
       "  <th>D3: All Day Summer</th> <td>   -1.3510</td> <td>    0.536</td> <td>   -2.523</td> <td> 0.053</td> <td>   -2.728</td> <td>    0.026</td>\n",
       "</tr>\n",
       "<tr>\n",
       "  <th>D1: 8-6 Winter</th>     <td>  2.05e-16</td> <td> 1.24e-16</td> <td>    1.650</td> <td> 0.160</td> <td>-1.14e-16</td> <td> 5.24e-16</td>\n",
       "</tr>\n",
       "<tr>\n",
       "  <th>D2: 8-8 Winter</th>     <td>    2.8293</td> <td>    0.836</td> <td>    3.384</td> <td> 0.020</td> <td>    0.680</td> <td>    4.979</td>\n",
       "</tr>\n",
       "<tr>\n",
       "  <th>D3: All Day Winter</th> <td>   -0.6662</td> <td>    0.653</td> <td>   -1.020</td> <td> 0.355</td> <td>   -2.345</td> <td>    1.013</td>\n",
       "</tr>\n",
       "</table>\n",
       "<table class=\"simpletable\">\n",
       "<tr>\n",
       "  <th>Omnibus:</th>       <td> 1.312</td> <th>  Durbin-Watson:     </th> <td>   1.481</td>\n",
       "</tr>\n",
       "<tr>\n",
       "  <th>Prob(Omnibus):</th> <td> 0.519</td> <th>  Jarque-Bera (JB):  </th> <td>   0.931</td>\n",
       "</tr>\n",
       "<tr>\n",
       "  <th>Skew:</th>          <td> 0.645</td> <th>  Prob(JB):          </th> <td>   0.628</td>\n",
       "</tr>\n",
       "<tr>\n",
       "  <th>Kurtosis:</th>      <td> 2.094</td> <th>  Cond. No.          </th> <td>1.09e+19</td>\n",
       "</tr>\n",
       "</table><br/><br/>Warnings:<br/>[1] Standard Errors assume that the covariance matrix of the errors is correctly specified.<br/>[2] The smallest eigenvalue is 8.23e-35. This might indicate that there are<br/>strong multicollinearity problems or that the design matrix is singular."
      ],
      "text/plain": [
       "<class 'statsmodels.iolib.summary.Summary'>\n",
       "\"\"\"\n",
       "                                 OLS Regression Results                                \n",
       "=======================================================================================\n",
       "Dep. Variable:         D1: 8-6 Summer   R-squared (uncentered):                   1.000\n",
       "Model:                            OLS   Adj. R-squared (uncentered):              1.000\n",
       "Method:                 Least Squares   F-statistic:                              6569.\n",
       "Date:                Thu, 17 Dec 2020   Prob (F-statistic):                    1.75e-09\n",
       "Time:                        19:24:49   Log-Likelihood:                          6.3798\n",
       "No. Observations:                   9   AIC:                                     -4.760\n",
       "Df Residuals:                       5   BIC:                                     -3.971\n",
       "Df Model:                           4                                                  \n",
       "Covariance Type:            nonrobust                                                  \n",
       "======================================================================================\n",
       "                         coef    std err          t      P>|t|      [0.025      0.975]\n",
       "--------------------------------------------------------------------------------------\n",
       "D2: 8-8 Summer        -0.2270      0.490     -0.463      0.663      -1.487       1.033\n",
       "D3: All Day Summer    -1.3510      0.536     -2.523      0.053      -2.728       0.026\n",
       "D1: 8-6 Winter       2.05e-16   1.24e-16      1.650      0.160   -1.14e-16    5.24e-16\n",
       "D2: 8-8 Winter         2.8293      0.836      3.384      0.020       0.680       4.979\n",
       "D3: All Day Winter    -0.6662      0.653     -1.020      0.355      -2.345       1.013\n",
       "==============================================================================\n",
       "Omnibus:                        1.312   Durbin-Watson:                   1.481\n",
       "Prob(Omnibus):                  0.519   Jarque-Bera (JB):                0.931\n",
       "Skew:                           0.645   Prob(JB):                        0.628\n",
       "Kurtosis:                       2.094   Cond. No.                     1.09e+19\n",
       "==============================================================================\n",
       "\n",
       "Warnings:\n",
       "[1] Standard Errors assume that the covariance matrix of the errors is correctly specified.\n",
       "[2] The smallest eigenvalue is 8.23e-35. This might indicate that there are\n",
       "strong multicollinearity problems or that the design matrix is singular.\n",
       "\"\"\""
      ]
     },
     "execution_count": 21,
     "metadata": {},
     "output_type": "execute_result"
    }
   ],
   "source": [
    "model.summary()"
   ]
  },
  {
   "cell_type": "code",
   "execution_count": 22,
   "metadata": {},
   "outputs": [
    {
     "data": {
      "text/plain": [
       "array([[1.        , 1.        , 0.99999999, 0.99999998, 0.99999998,\n",
       "        0.99999995, 0.99999992, 0.99999991, 0.99999991],\n",
       "       [1.        , 1.        , 0.99999999, 0.99999999, 0.99999999,\n",
       "        0.99999996, 0.99999993, 0.99999992, 0.99999992],\n",
       "       [0.99999999, 0.99999999, 1.        , 1.        , 0.99999999,\n",
       "        0.99999998, 0.99999993, 0.99999993, 0.99999992],\n",
       "       [0.99999998, 0.99999999, 1.        , 1.        , 1.        ,\n",
       "        0.99999998, 0.99999994, 0.99999993, 0.99999993],\n",
       "       [0.99999998, 0.99999999, 0.99999999, 1.        , 1.        ,\n",
       "        0.99999999, 0.99999995, 0.99999994, 0.99999994],\n",
       "       [0.99999995, 0.99999996, 0.99999998, 0.99999998, 0.99999999,\n",
       "        1.        , 0.99999997, 0.99999996, 0.99999996],\n",
       "       [0.99999992, 0.99999993, 0.99999993, 0.99999994, 0.99999995,\n",
       "        0.99999997, 1.        , 1.        , 0.99999999],\n",
       "       [0.99999991, 0.99999992, 0.99999993, 0.99999993, 0.99999994,\n",
       "        0.99999996, 1.        , 1.        , 0.99999999],\n",
       "       [0.99999991, 0.99999992, 0.99999992, 0.99999993, 0.99999994,\n",
       "        0.99999996, 0.99999999, 0.99999999, 1.        ]])"
      ]
     },
     "execution_count": 22,
     "metadata": {},
     "output_type": "execute_result"
    }
   ],
   "source": [
    "import numpy as np\n",
    "\n",
    "np.corrcoef(df)"
   ]
  },
  {
   "cell_type": "code",
   "execution_count": null,
   "metadata": {},
   "outputs": [],
   "source": []
  }
 ],
 "metadata": {
  "kernelspec": {
   "display_name": "Python 3",
   "language": "python",
   "name": "python3"
  },
  "language_info": {
   "codemirror_mode": {
    "name": "ipython",
    "version": 3
   },
   "file_extension": ".py",
   "mimetype": "text/x-python",
   "name": "python",
   "nbconvert_exporter": "python",
   "pygments_lexer": "ipython3",
   "version": "3.8.3"
  }
 },
 "nbformat": 4,
 "nbformat_minor": 4
}
