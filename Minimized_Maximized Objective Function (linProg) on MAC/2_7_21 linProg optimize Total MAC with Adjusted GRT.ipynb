{
 "cells": [
  {
   "cell_type": "code",
   "execution_count": 1,
   "metadata": {},
   "outputs": [],
   "source": [
    "from scipy.optimize import linprog\n"
   ]
  },
  {
   "cell_type": "code",
   "execution_count": 2,
   "metadata": {},
   "outputs": [],
   "source": [
    "obj = [-51239, -51239, -51239, -51239]"
   ]
  },
  {
   "cell_type": "code",
   "execution_count": 7,
   "metadata": {},
   "outputs": [],
   "source": [
    "from scipy.optimize import linprog\n",
    "obj = [-51239, -51239, -51239, -51239]\n",
    "\n"
   ]
  },
  {
   "cell_type": "code",
   "execution_count": 8,
   "metadata": {},
   "outputs": [],
   "source": [
    "lhs_ineq = [[1, 0, 0, 0],\t# MAC (>= min)\n",
    "\t        [0, 1, 0, 0],  # MACRcncAdj (>=min) \n",
    "\t        [0, 0, 1, 0],  # MACUncDel (>=min)\t\n",
    "\t        [0, 0, 0, 1],  # MACTrnAdj (>=min)\n",
    "\t        [-1, 0, 0, 0],  # MAC (<= max)\n",
    "\t        [0, -1, 0, 0],  # MACRcncAdj (<=max)\t\n",
    "\t        [0, 0, -1, 0],  # MACUncDel (<=max)\n",
    "\t        [0, 0, 0, -1]]\t# MACTrnAdj (<=max)"
   ]
  },
  {
   "cell_type": "code",
   "execution_count": 9,
   "metadata": {},
   "outputs": [],
   "source": [
    "rhs_ineq = [ 0.0113,  \t# MAC (>= min)\n",
    "            0.008283, \t# MACRcncAdj (>=min)\n",
    "\t    0.000075, \t# MACUncDel (>=min)\n",
    "\t    0.000001,   # MACTrnAdj (>=min)\n",
    "\t    -0.0084,\t# MAC (<= max)\n",
    "\t    0.003412,   # MACRcncAdj (<=max)\n",
    "\t    -0.000027,  # MACUncDel (<=max)\n",
    "\t    0.000079]   # MACTrnAdj (<=max)"
   ]
  },
  {
   "cell_type": "code",
   "execution_count": 10,
   "metadata": {},
   "outputs": [
    {
     "name": "stdout",
     "output_type": "stream",
     "text": [
      "     con: array([], dtype=float64)\n",
      "     fun: -1007.307501\n",
      " message: 'The solution was determined in presolve as there are no non-trivial constraints.'\n",
      "     nit: 0\n",
      "   slack: array([0.0000e+00, 0.0000e+00, 0.0000e+00, 0.0000e+00, 2.9000e-03,\n",
      "       1.1695e-02, 4.8000e-05, 8.0000e-05])\n",
      "  status: 0\n",
      " success: True\n",
      "       x: array([1.130e-02, 8.283e-03, 7.500e-05, 1.000e-06])\n"
     ]
    }
   ],
   "source": [
    "opt = linprog(c = obj, A_ub = lhs_ineq, b_ub=rhs_ineq,\n",
    "              method=\"revised simplex\")\n",
    "print(opt)"
   ]
  },
  {
   "cell_type": "code",
   "execution_count": null,
   "metadata": {},
   "outputs": [],
   "source": []
  },
  {
   "cell_type": "code",
   "execution_count": null,
   "metadata": {},
   "outputs": [],
   "source": []
  }
 ],
 "metadata": {
  "kernelspec": {
   "display_name": "Python 3",
   "language": "python",
   "name": "python3"
  },
  "language_info": {
   "codemirror_mode": {
    "name": "ipython",
    "version": 3
   },
   "file_extension": ".py",
   "mimetype": "text/x-python",
   "name": "python",
   "nbconvert_exporter": "python",
   "pygments_lexer": "ipython3",
   "version": "3.8.3"
  }
 },
 "nbformat": 4,
 "nbformat_minor": 4
}
