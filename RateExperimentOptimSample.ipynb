{
 "cells": [
  {
   "cell_type": "code",
   "execution_count": 1,
   "metadata": {},
   "outputs": [
    {
     "name": "stdout",
     "output_type": "stream",
     "text": [
      "     con: array([], dtype=float64)\n",
      "     fun: -19.82\n",
      " message: 'The problem is unbounded, as the simplex algorithm found a basic feasible solution from which there is a direction with negative reduced cost in which all decision variables increase.'\n",
      "     nit: 5\n",
      "   slack: array([0., 0., 1., 0., 1., 0., 0., 0., 5.])\n",
      "  status: 3\n",
      " success: False\n",
      "       x: array([10.02,  1.  ,  2.7 ,  2.  ,  3.1 ,  1.  ])\n"
     ]
    }
   ],
   "source": [
    "from scipy.optimize import linprog\n",
    "\n",
    "obj = [-1, -1, -1, -1, -1, -1]\n",
    "\n",
    "lhs_ineq = [[1, -1, 0, 0, 0, 0],  # D1: 8-6 Summer\n",
    "            [0, 1, 0, 0, 0, 0],  # D1: 8-6 Winter\n",
    "            [0, -1, 0, 0, 0, 0],  # D2: 8-10 Winter\n",
    "            [0, 0, 1, -1.35, 0, 0],  # D2: 8-10 Summer\n",
    "            [0, 0, 0, -1, 0, 0],  #\n",
    "            [0, 0, 0, 1, 0, 0],  #\n",
    "            [0, 0, 0, 0, 1, -3.1],  #\n",
    "            [0, 0, 0, 0, 0, -1],  # D3: All Day Winter\n",
    "            [0, 0, 0, 0, 0, -1]]  # D3: All Day Summer\n",
    "\n",
    "rhs_ineq = [ 9.02,  # D1: 8-6 Summer\n",
    "            1,  # \n",
    "             0,  # \n",
    "             0,  # \n",
    "             -1,  # \n",
    "             2,  # \n",
    "             0,  # \n",
    "             -1,  # \n",
    "             4]  # \n",
    "\n",
    "opt = linprog(c=obj, A_ub=lhs_ineq, b_ub=rhs_ineq,\n",
    "              method=\"revised simplex\")\n",
    "print(opt)\n"
   ]
  },
  {
   "cell_type": "code",
   "execution_count": null,
   "metadata": {},
   "outputs": [],
   "source": []
  }
 ],
 "metadata": {
  "kernelspec": {
   "display_name": "Python 3",
   "language": "python",
   "name": "python3"
  },
  "language_info": {
   "codemirror_mode": {
    "name": "ipython",
    "version": 3
   },
   "file_extension": ".py",
   "mimetype": "text/x-python",
   "name": "python",
   "nbconvert_exporter": "python",
   "pygments_lexer": "ipython3",
   "version": "3.8.3"
  }
 },
 "nbformat": 4,
 "nbformat_minor": 4
}
